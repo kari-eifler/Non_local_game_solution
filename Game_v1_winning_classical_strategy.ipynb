{
 "cells": [
  {
   "cell_type": "markdown",
   "metadata": {},
   "source": [
    "# Are there two (non-isomorphic) graphs with n vertices which have a winning classical strategy?\n",
    "\n",
    "Two graphs G, H\n",
    "\n",
    "Three players: A, B, C\n",
    "\n",
    "I = O = V(G) = V(H)\n",
    "\n",
    "The three players win a round if\n",
    "\n",
    "(1) output for each player is from the other graph than the input\n",
    "\n",
    "(2) if the inputs x_A, x_B, x_C are from G then rel(x_A, x_B, x_C) = rel(y_A, y_B, y_C)\n",
    "\n",
    "i.e. x_A = x_B = x_C iff y_A = y_B = y_C\n",
    "\n",
    "x_A ~ x_B ~ x_C ~ x_A iff y_A ~ y_B ~ y_C ~ y_A (triangles)\n",
    "\n",
    "x_A !~ x_B !~ x_C !~ x_A iff y_A !~ y_B !~ y_C !~ y_A (anti-triangles)\n",
    "\n",
    "(3) If (WLOG) x_A, x_B are from G and x_C is from H, then\n",
    "\n",
    "x_A = y_C iff y_A = x_C\n",
    "\n",
    "x_B = y_C iff y_B = x_C\n"
   ]
  },
  {
   "cell_type": "code",
   "execution_count": 1,
   "metadata": {},
   "outputs": [
    {
     "name": "stdout",
     "output_type": "stream",
     "text": [
      "We are considering  4  vertices. This gives a total of  64  adjacency matrices.\n"
     ]
    }
   ],
   "source": [
    "numvertices = 4\n",
    "\n",
    "#how many free entries in an adjacency matrix\n",
    "numentries = int(numvertices*(numvertices-1)/2)\n",
    "numgraphs = 2**numentries\n",
    "\n",
    "print('We are considering ',numvertices, \n",
    "      ' vertices. This gives a total of ', \n",
    "      numgraphs, ' adjacency matrices.')"
   ]
  },
  {
   "cell_type": "code",
   "execution_count": 2,
   "metadata": {},
   "outputs": [],
   "source": [
    "#this is a weird conversion, see notes\n",
    "#basically, it maps numentries to row/column indices\n",
    "def WhereInMatrix(numvertices,k):\n",
    "    rowindex = 0\n",
    "    startrow = 0\n",
    "    rowlength = numvertices - 1\n",
    "    while k >= startrow + rowlength:\n",
    "        startrow = startrow + rowlength\n",
    "        rowindex += 1\n",
    "        rowlength -= 1\n",
    "    colindex = rowindex + 1 + (k - startrow)\n",
    "    return [rowindex, colindex]"
   ]
  },
  {
   "cell_type": "code",
   "execution_count": 4,
   "metadata": {
    "scrolled": false
   },
   "outputs": [
    {
     "name": "stdout",
     "output_type": "stream",
     "text": [
      "Number of adjacency matrices = len(combos): 64\n"
     ]
    }
   ],
   "source": [
    "import itertools\n",
    "import numpy\n",
    "import copy\n",
    "\n",
    "# find all possible subsets of [0,1,...,numentries]\n",
    "# to determine which are 0 and which are 1\n",
    "combos = []\n",
    "for k in range(numentries+1):\n",
    "    which = list(itertools.combinations(range(numentries), k))\n",
    "    for i in range(len(which)):\n",
    "        combos.append(which[i])\n",
    "print('Number of adjacency matrices = len(combos):', len(combos))\n",
    "#print('combos:', combos)\n",
    "\n",
    "#initialize list of all distinct adjacency matrices\n",
    "AllAdj = []\n",
    "\n",
    "#go from combos to Adjacency matrix\n",
    "for index in range(len(combos)): #for each combination\n",
    "    #initialize adjacency matrix\n",
    "    Adj = [[0]*numvertices for _ in range(numvertices)]\n",
    "    for entry in range(len(combos[index])):\n",
    "        #add 1's in appropriate spots\n",
    "        [rowindex,colindex] = WhereInMatrix(numvertices,combos[index][entry])\n",
    "        Adj[rowindex][colindex] = 1\n",
    "        Adj[colindex][rowindex] = 1\n",
    "    AllAdj.append(Adj)\n",
    "\n",
    "#print('AllAdj:', AllAdj)\n",
    "#now we have all adjacency matrices as a big jumbo list!"
   ]
  },
  {
   "cell_type": "code",
   "execution_count": 5,
   "metadata": {},
   "outputs": [],
   "source": [
    "def IsoGraphs(matrix1,matrix2,perm):\n",
    "    \"\"\"\n",
    "    Suppose we permute the indices of matrix2 by perm\n",
    "    Check if matrix1 = matrix2 permuted\n",
    "    \"\"\"\n",
    "    n = len(matrix1)\n",
    "    if len(matrix2) != n:\n",
    "        return False\n",
    "    \n",
    "    newmatrix2 = [[0]*n for _ in range(n)]\n",
    "    for i in range(n):\n",
    "        for j in range(n):\n",
    "            newmatrix2[i][j] = matrix2[perm[i]][perm[j]]\n",
    "            if newmatrix2[i][j] != matrix1[i][j]:\n",
    "                return False\n",
    "    if matrix1 == newmatrix2:\n",
    "        return True\n",
    "    else:\n",
    "        return False\n"
   ]
  },
  {
   "cell_type": "code",
   "execution_count": 6,
   "metadata": {},
   "outputs": [
    {
     "name": "stdout",
     "output_type": "stream",
     "text": [
      "vertices: [0, 1, 2, 3]\n",
      "\n",
      "\n",
      "For  4  vertices, there are  11  non-isomorphic graphs.\n"
     ]
    }
   ],
   "source": [
    "# compare 2 matrices to see if they're classically isomorphic\n",
    "\n",
    "#create list of vertices\n",
    "vertices = []\n",
    "for i in range(numvertices):\n",
    "    vertices.append(i)\n",
    "print('vertices:',vertices)\n",
    "\n",
    "# Get all permutations of [1, 2, 3,..., numvertices] \n",
    "permutations = itertools.permutations(vertices) \n",
    "permlist = list(permutations)\n",
    "#print('permlist:',permlist)\n",
    "\n",
    "matrix1 = 0\n",
    "matrix2 = matrix1 + 1\n",
    "while matrix1 < len(AllAdj):\n",
    "    while matrix2 < len(AllAdj):\n",
    "        #print('comparing matrix1:',matrix1,' and matrix2:',matrix2)\n",
    "        matrix1iso2 = False\n",
    "        p = 0\n",
    "        while matrix1iso2 == False and p < len(permlist):\n",
    "            #print('compare matrix1 with matrix2 edited by perm', permlist[p])\n",
    "            matrix1iso2 = IsoGraphs(AllAdj[matrix1],AllAdj[matrix2],permlist[p])\n",
    "            p += 1\n",
    "        \n",
    "        if matrix1iso2 == True:\n",
    "            #print('they are isomorphic, delete matrix', matrix2)\n",
    "            AllAdj.pop(matrix2) #delete matrix2 from list\n",
    "        else:\n",
    "            #print('they are not isomorphic')\n",
    "            matrix2 += 1\n",
    "    \n",
    "    matrix1 += 1\n",
    "    matrix2 = matrix1 + 1\n",
    "\n",
    "\n",
    "print('\\n\\nFor ', numvertices, \n",
    "      ' vertices, there are ', len(AllAdj), ' non-isomorphic graphs.')\n",
    "    "
   ]
  },
  {
   "cell_type": "code",
   "execution_count": 7,
   "metadata": {},
   "outputs": [],
   "source": [
    "def WinningClassical(matrix1,matrix2,vertices,perm):\n",
    "    \"\"\"\n",
    "    Suppose we permute the indices of matrix2 by perm\n",
    "    Check if matrix1 and newmatrix2 have a winning classical\n",
    "    multiplayer strategy\n",
    "    Here, we assume vertex i in matrix1 maps to vertex i\n",
    "    in newmatrix2\n",
    "    \"\"\"\n",
    "    n = len(matrix1)\n",
    "    dummy = 0\n",
    "    WinningClassicalStrategy = True\n",
    "    \n",
    "    isomorphic = IsoGraphs(matrix1,matrix2,perm)\n",
    "    if isomorphic == True:\n",
    "        return False\n",
    "    else:\n",
    "        newmatrix2 = [[0]*n for _ in range(n)]\n",
    "        for i in range(n):\n",
    "            for j in range(n):\n",
    "                newmatrix2[i][j] = matrix2[perm[i]][perm[j]]\n",
    "\n",
    "        for i, j, k in itertools.combinations(vertices, 3):\n",
    "            if matrix1[i][j] == 1 and matrix1[i][k] == 1 and matrix1[j][k] == 1:\n",
    "                if newmatrix2[i][j] == 1 and newmatrix2[i][k] == 1 and newmatrix2[j][k] == 1:\n",
    "                    dummy = 1\n",
    "                else:\n",
    "                    WinningClassicalStrategy = False\n",
    "            if matrix1[i][j] == 0 and matrix1[i][k] == 0 and matrix1[j][k] == 0:\n",
    "                if newmatrix2[i][j] == 0 and newmatrix2[i][k] == 0 and newmatrix2[j][k] == 0:\n",
    "                    dummy = 1\n",
    "                else:\n",
    "                    WinningClassicalStrategy = False\n",
    "            if newmatrix2[i][j] == 1 and newmatrix2[i][k] == 1 and newmatrix2[j][k] == 1:\n",
    "                if matrix1[i][j] == 1 and matrix1[i][k] == 1 and matrix1[j][k] == 1:\n",
    "                    dummy = 1\n",
    "                else:\n",
    "                    WinningClassicalStrategy = False\n",
    "            if newmatrix2[i][j] == 0 and newmatrix2[i][k] == 0 and newmatrix2[j][k] == 0:\n",
    "                if matrix1[i][j] == 0 and matrix1[i][k] == 0 and matrix1[j][k] == 0:\n",
    "                    dummy = 1\n",
    "                else:\n",
    "                    WinningClassicalStrategy = False\n",
    "\n",
    "        if WinningClassicalStrategy == True:\n",
    "            print('the following two graphs are not isomorphic but do have a winning classical strategy')\n",
    "            print(matrix1)\n",
    "            print(newmatrix2)\n",
    "        return WinningClassicalStrategy\n",
    "\n"
   ]
  },
  {
   "cell_type": "code",
   "execution_count": 7,
   "metadata": {},
   "outputs": [
    {
     "name": "stdout",
     "output_type": "stream",
     "text": [
      "vertices: [0, 1, 2, 3]\n",
      "the following two graphs are not isomorphic and have a winning classical strategy\n",
      "[[0, 1, 1, 0], [1, 0, 0, 0], [1, 0, 0, 0], [0, 0, 0, 0]]\n",
      "[[0, 1, 1, 1], [1, 0, 0, 0], [1, 0, 0, 0], [1, 0, 0, 0]]\n",
      "the following two graphs are not isomorphic and have a winning classical strategy\n",
      "[[0, 1, 0, 0], [1, 0, 0, 0], [0, 0, 0, 1], [0, 0, 1, 0]]\n",
      "[[0, 1, 1, 0], [1, 0, 0, 1], [1, 0, 0, 0], [0, 1, 0, 0]]\n",
      "the following two graphs are not isomorphic and have a winning classical strategy\n",
      "[[0, 1, 0, 0], [1, 0, 0, 0], [0, 0, 0, 1], [0, 0, 1, 0]]\n",
      "[[0, 1, 1, 0], [1, 0, 0, 1], [1, 0, 0, 1], [0, 1, 1, 0]]\n",
      "the following two graphs are not isomorphic and have a winning classical strategy\n",
      "[[0, 1, 1, 0], [1, 0, 1, 0], [1, 1, 0, 0], [0, 0, 0, 0]]\n",
      "[[0, 1, 1, 1], [1, 0, 1, 0], [1, 1, 0, 0], [1, 0, 0, 0]]\n",
      "the following two graphs are not isomorphic and have a winning classical strategy\n",
      "[[0, 1, 1, 0], [1, 0, 0, 1], [1, 0, 0, 0], [0, 1, 0, 0]]\n",
      "[[0, 1, 1, 0], [1, 0, 0, 1], [1, 0, 0, 1], [0, 1, 1, 0]]\n",
      "the number of pairs of graphs that have a winning classical multiplayer strategy is 5\n"
     ]
    }
   ],
   "source": [
    "\"\"\"\n",
    "compare 2 matrices to see if there's a winnning classical strategy\n",
    "\"\"\"\n",
    "\n",
    "#create list of vertices\n",
    "vertices = []\n",
    "for i in range(numvertices):\n",
    "    vertices.append(i)\n",
    "print('vertices:',vertices)\n",
    "\n",
    "# Get all permutations of [1, 2, 3,...,numvertices] \n",
    "permutations = itertools.permutations(vertices) \n",
    "permlist = list(permutations)\n",
    "\n",
    "numpairs = 0\n",
    "matrix1 = 0\n",
    "matrix2 = matrix1 + 1\n",
    "while matrix1 < len(AllAdj):\n",
    "    while matrix2 < len(AllAdj):\n",
    "        #print('comparing matrix1:',matrix1,' and matrix2:',matrix2)\n",
    "        matrix1iso2 = False\n",
    "        p = 0\n",
    "        while matrix1iso2 == False and p < len(permlist):\n",
    "            #print('compare matrix1 with matrix2 edited by perm', permlist[p])\n",
    "            matrix1iso2 = WinningClassical(AllAdj[matrix1],AllAdj[matrix2],vertices,permlist[p])\n",
    "            p += 1\n",
    "        if matrix1iso2 == True:\n",
    "            numpairs += 1\n",
    "        \n",
    "        matrix2 += 1\n",
    "    \n",
    "    matrix1 += 1\n",
    "    matrix2 = matrix1 + 1\n",
    "\n",
    "print('the number of pairs of graphs that have a winning classical multiplayer strategy is', \n",
    "     numpairs)"
   ]
  },
  {
   "cell_type": "code",
   "execution_count": null,
   "metadata": {},
   "outputs": [],
   "source": []
  }
 ],
 "metadata": {
  "kernelspec": {
   "display_name": "Python 3",
   "language": "python",
   "name": "python3"
  },
  "language_info": {
   "codemirror_mode": {
    "name": "ipython",
    "version": 3
   },
   "file_extension": ".py",
   "mimetype": "text/x-python",
   "name": "python",
   "nbconvert_exporter": "python",
   "pygments_lexer": "ipython3",
   "version": "3.7.6"
  }
 },
 "nbformat": 4,
 "nbformat_minor": 4
}

{
 "cells": [
  {
   "cell_type": "code",
   "execution_count": 1,
   "metadata": {},
   "outputs": [],
   "source": [
    "import numpy as np\n",
    "import itertools\n",
    "import copy\n"
   ]
  },
  {
   "cell_type": "code",
   "execution_count": 2,
   "metadata": {},
   "outputs": [],
   "source": [
    "n_vertices = 8"
   ]
  },
  {
   "cell_type": "code",
   "execution_count": 3,
   "metadata": {},
   "outputs": [
    {
     "name": "stdout",
     "output_type": "stream",
     "text": [
      "num_entries: 1044\n"
     ]
    }
   ],
   "source": [
    "\"\"\"\n",
    "Download presaved graphs for one less vertex\n",
    "\"\"\"\n",
    "\n",
    "n_vertices -= 1\n",
    "file_str = 'graphs_' + str(n_vertices) + '.txt'\n",
    "\n",
    "original_array = np.loadtxt(file_str)\n",
    "\n",
    "#reshape array appropriately\n",
    "num_entries = int(np.shape(original_array)[0] / n_vertices)\n",
    "print('num_entries:',num_entries)\n",
    "original_graphs = np.reshape(original_array,(num_entries,n_vertices,n_vertices))\n",
    "original_graphs = original_graphs.tolist()"
   ]
  },
  {
   "cell_type": "code",
   "execution_count": 4,
   "metadata": {},
   "outputs": [],
   "source": [
    "original_graphs = [[[int(num) for num in sub] for sub in lst] for lst in original_graphs]\n",
    "#print(original_graphs)"
   ]
  },
  {
   "cell_type": "markdown",
   "metadata": {},
   "source": [
    "# PLAN\n",
    "\n",
    "We have all the non-isomorphic graphs of size n-1\n",
    "We append an extra vertex, and consider all the new adjacency matrices that may arise\n",
    "\n",
    "Check if there's redundancies, delete if so\n"
   ]
  },
  {
   "cell_type": "code",
   "execution_count": 5,
   "metadata": {},
   "outputs": [
    {
     "name": "stdout",
     "output_type": "stream",
     "text": [
      "Number of new adjacency matrices per original graph: 128\n",
      "Total number of new adjacency matrices: 133632\n"
     ]
    }
   ],
   "source": [
    "combos = [] #possible vertices to add an edge to new vertex\n",
    "for k in range(n_vertices+1):\n",
    "    which = list(itertools.combinations(range(n_vertices), k))\n",
    "    for i in range(len(which)):\n",
    "        combos.append(which[i])\n",
    "print('Number of new adjacency matrices per original graph:', len(combos))\n",
    "print('Total number of new adjacency matrices:',len(combos)*num_entries)"
   ]
  },
  {
   "cell_type": "code",
   "execution_count": 6,
   "metadata": {},
   "outputs": [],
   "source": [
    "#initialize list of all distinct adjacency matrices\n",
    "AllAdj = []\n",
    "\n",
    "#go from combos to Adjacency matrix\n",
    "for g in range(len(original_graphs)):\n",
    "    for i in range(len(combos)):\n",
    "        this_combo = combos[i]\n",
    "        new_matrix = copy.deepcopy(original_graphs[g])\n",
    "        \n",
    "        new_matrix.append([0]*(n_vertices+1))\n",
    "        for k in range(n_vertices):\n",
    "            if k in this_combo:\n",
    "                new_matrix[k].append(1)\n",
    "                new_matrix[n_vertices][k] = 1\n",
    "            else:\n",
    "                new_matrix[k].append(0)\n",
    "        \n",
    "        AllAdj.append(new_matrix)"
   ]
  },
  {
   "cell_type": "code",
   "execution_count": null,
   "metadata": {},
   "outputs": [],
   "source": [
    "\"\"\"\n",
    "Delete Duplicates\n",
    "\"\"\"\n",
    "n_vertices += 1\n",
    "\n",
    "def IsoGraphs(matrix1,matrix2,perm):\n",
    "    \"\"\"\n",
    "    Suppose we permute the indices of matrix2 by perm\n",
    "    Check if matrix1 = matrix2 permuted\n",
    "    \"\"\"\n",
    "    n = len(matrix1)\n",
    "    if len(matrix2) != n:\n",
    "        return False\n",
    "    \n",
    "    #initially check if degrees line up\n",
    "    for i in range(n):\n",
    "        if sum(matrix1[i]) != sum(matrix2[perm[i]]):\n",
    "            return False\n",
    "    \n",
    "    #then check if each entry lines up\n",
    "    newmatrix2 = [[0]*n for _ in range(n)]\n",
    "    for i in range(n):\n",
    "        for j in range(n):\n",
    "            newmatrix2[i][j] = matrix2[perm[i]][perm[j]]\n",
    "            if newmatrix2[i][j] != matrix1[i][j]:\n",
    "                return False\n",
    "    if matrix1 == newmatrix2:\n",
    "        return True\n",
    "    else:\n",
    "        return False\n",
    "\n",
    "\n",
    "\n",
    "\n",
    "\"\"\"\n",
    "Compare 2 matrices to see if they're classically isomorphic.\n",
    "Note: this is probably still a bad way to do it...\n",
    "\n",
    "SHOULD BE IMPROVED\n",
    "\"\"\"\n",
    "\n",
    "#create list of vertices\n",
    "vertices = []\n",
    "for i in range(n_vertices):\n",
    "    vertices.append(i)\n",
    "\n",
    "# Get all permutations of [1, 2, 3,..., n_vertices] \n",
    "permutations = itertools.permutations(vertices) \n",
    "permlist = list(permutations)\n",
    "\n",
    "matrix1 = 0\n",
    "matrix2 = matrix1 + 1\n",
    "while matrix1 < len(AllAdj):\n",
    "    while matrix2 < len(AllAdj):\n",
    "        #print('comparing matrix1:',matrix1,' and matrix2:',matrix2)\n",
    "        matrix1iso2 = False\n",
    "        p = 0\n",
    "        while matrix1iso2 == False and p < len(permlist):\n",
    "            #print('compare matrix1 with matrix2 edited by perm', permlist[p])\n",
    "            matrix1iso2 = IsoGraphs(AllAdj[matrix1],AllAdj[matrix2],permlist[p])\n",
    "            p += 1\n",
    "        \n",
    "        if matrix1iso2 == True:\n",
    "            #print('they are isomorphic, delete matrix', matrix2)\n",
    "            AllAdj.pop(matrix2) #delete matrix2 from list\n",
    "        else:\n",
    "            #print('they are not isomorphic')\n",
    "            matrix2 += 1\n",
    "    \n",
    "    matrix1 += 1\n",
    "    matrix2 = matrix1 + 1\n",
    "\n",
    "\n",
    "print('\\n\\nFor ', n_vertices, \n",
    "      ' vertices, there are ', len(AllAdj), ' non-isomorphic graphs.')\n"
   ]
  },
  {
   "cell_type": "code",
   "execution_count": null,
   "metadata": {},
   "outputs": [],
   "source": [
    "file_str = 'graphs_' + str(n_vertices) + '.txt'\n",
    "a_file = open(file_str, \"w\")\n",
    "for row in AllAdj:\n",
    "    np.savetxt(a_file, row)\n",
    "\n",
    "a_file.close()\n"
   ]
  },
  {
   "cell_type": "code",
   "execution_count": null,
   "metadata": {},
   "outputs": [],
   "source": []
  }
 ],
 "metadata": {
  "kernelspec": {
   "display_name": "Python 3",
   "language": "python",
   "name": "python3"
  },
  "language_info": {
   "codemirror_mode": {
    "name": "ipython",
    "version": 3
   },
   "file_extension": ".py",
   "mimetype": "text/x-python",
   "name": "python",
   "nbconvert_exporter": "python",
   "pygments_lexer": "ipython3",
   "version": "3.7.6"
  }
 },
 "nbformat": 4,
 "nbformat_minor": 4
}

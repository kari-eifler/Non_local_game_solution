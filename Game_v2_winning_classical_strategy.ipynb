{
 "cells": [
  {
   "cell_type": "markdown",
   "metadata": {},
   "source": [
    "# Are there two (non-isomorphic) graphs with n vertices which have a winning classical strategy?\n",
    "\n",
    "Jan 28, 2021\n",
    "\n",
    "Two simple graphs (undirected, no loops, no multiple edges) G, H\n",
    "\n",
    "Three players: A, B, C\n",
    "\n",
    "I = O = V(G) = V(H)\n",
    "\n",
    "The three players win a round if\n",
    "\n",
    "(1) output for each player is from the other graph than the input\n",
    "\n",
    "(2) if the inputs x_A, x_B, x_C are from G then rel(x_A, x_B, x_C) = rel(y_A, y_B, y_C)\n",
    "\n",
    "i.e. x_A = x_B = x_C iff y_A = y_B = y_C\n",
    "\n",
    "x_A ~ x_B ~ x_C ~ x_A iff y_A ~ y_B ~ y_C ~ y_A (triangles)\n",
    "\n",
    "x_A !~ x_B !~ x_C !~ x_A iff y_A !~ y_B !~ y_C !~ y_A (anti-triangles)\n",
    "\n",
    "(3) If (WLOG) x_A, x_B are from G and x_C is from H, then\n",
    "\n",
    "x_A = y_C iff y_A = x_C\n",
    "\n",
    "x_B = y_C iff y_B = x_C\n"
   ]
  },
  {
   "cell_type": "code",
   "execution_count": 20,
   "metadata": {},
   "outputs": [],
   "source": [
    "import numpy as np"
   ]
  },
  {
   "cell_type": "code",
   "execution_count": 45,
   "metadata": {},
   "outputs": [],
   "source": [
    "n_vertices = 3"
   ]
  },
  {
   "cell_type": "code",
   "execution_count": 46,
   "metadata": {},
   "outputs": [
    {
     "name": "stdout",
     "output_type": "stream",
     "text": [
      "The number of distinct graphs with  3  vertices is:  4\n"
     ]
    }
   ],
   "source": [
    "file_str = 'graphs_' + str(n_vertices) + '.txt'\n",
    "\n",
    "original_array = np.loadtxt(file_str)\n",
    "\n",
    "#reshape array appropriately\n",
    "num_entries = int(np.shape(original_array)[0] / n_vertices)\n",
    "print('The number of distinct graphs with ', n_vertices, ' vertices is: ', num_entries)\n",
    "Graphs = np.reshape(original_array,(num_entries,n_vertices,n_vertices))\n"
   ]
  },
  {
   "cell_type": "code",
   "execution_count": 47,
   "metadata": {},
   "outputs": [
    {
     "data": {
      "text/plain": [
       "array([[[0., 0., 0.],\n",
       "        [0., 0., 0.],\n",
       "        [0., 0., 0.]],\n",
       "\n",
       "       [[0., 0., 1.],\n",
       "        [0., 0., 0.],\n",
       "        [1., 0., 0.]],\n",
       "\n",
       "       [[0., 0., 1.],\n",
       "        [0., 0., 1.],\n",
       "        [1., 1., 0.]],\n",
       "\n",
       "       [[0., 1., 1.],\n",
       "        [1., 0., 1.],\n",
       "        [1., 1., 0.]]])"
      ]
     },
     "execution_count": 47,
     "metadata": {},
     "output_type": "execute_result"
    }
   ],
   "source": [
    "Graphs"
   ]
  },
  {
   "cell_type": "code",
   "execution_count": null,
   "metadata": {},
   "outputs": [],
   "source": []
  }
 ],
 "metadata": {
  "kernelspec": {
   "display_name": "Python 3",
   "language": "python",
   "name": "python3"
  },
  "language_info": {
   "codemirror_mode": {
    "name": "ipython",
    "version": 3
   },
   "file_extension": ".py",
   "mimetype": "text/x-python",
   "name": "python",
   "nbconvert_exporter": "python",
   "pygments_lexer": "ipython3",
   "version": "3.7.6"
  }
 },
 "nbformat": 4,
 "nbformat_minor": 4
}
